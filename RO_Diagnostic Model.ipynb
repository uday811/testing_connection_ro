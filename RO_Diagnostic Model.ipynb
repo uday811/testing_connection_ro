{
 "cells": [
  {
   "cell_type": "code",
   "execution_count": 33,
   "id": "8d31cd5d-6531-427b-9a87-89a1732b206a",
   "metadata": {},
   "outputs": [
    {
     "name": "stdout",
     "output_type": "stream",
     "text": [
      "        Date  RO-1 Feed pH  RO-1 Feed  EC\\n(µs/cms)  RO-1 Feed  TDS (mg/l)  \\\n",
      "0 2023-12-15          7.90                      NaN                    NaN   \n",
      "1 2023-12-16           NaN                      NaN                    NaN   \n",
      "2 2023-12-17          7.70                      NaN                    NaN   \n",
      "3 2023-12-18          7.65                      NaN                    NaN   \n",
      "4 2023-12-19          7.80                      NaN                    NaN   \n",
      "\n",
      "  RO-1 Feed  TSS (mg/l)  RO-1 Feed Turbidity\\nNTU  RO-1 Feed  COD (mg/l)  \\\n",
      "0                    ND                       0.3                    NaN   \n",
      "1                   NaN                       NaN                    NaN   \n",
      "2                   NaN                       0.7                    NaN   \n",
      "3                    ND                       0.5                  450.0   \n",
      "4                   NaN                       0.8                    NaN   \n",
      "\n",
      "  RO-1 Feed  BOD (mg/l)  RO-1 Feed BOD:\\nCOD\\nRatio  RO-1 Feed NH3N (mg/l)  \\\n",
      "0                   NaN                         NaN                    NaN   \n",
      "1                   NaN                         NaN                    NaN   \n",
      "2                   NaN                         NaN                    NaN   \n",
      "3                   NaN                         NaN                    NaN   \n",
      "4                   NaN                         NaN                    NaN   \n",
      "\n",
      "   ...  RO-1 R TDS\\n(mg/l)   RO-1 R Total Hardnes  RO-1 R Ca Hardness  \\\n",
      "0  ...               6290.0                   NaN                 NaN   \n",
      "1  ...                  NaN                   NaN                 NaN   \n",
      "2  ...                  NaN                   NaN                 NaN   \n",
      "3  ...                  NaN                   NaN                 NaN   \n",
      "4  ...                  NaN                   NaN                 NaN   \n",
      "\n",
      "   RO-1 R Total Alkalinity RO-1 R COD\\n(mg/l)   RO 1 FEED PRESSURE\\n  \\\n",
      "0                      NaN               760.0                   NaN   \n",
      "1                      NaN                 NaN                   NaN   \n",
      "2                      NaN                 NaN                   NaN   \n",
      "3                      NaN                 NaN                   NaN   \n",
      "4                      NaN                 NaN                   NaN   \n",
      "\n",
      "   RO 1 Rej PRESSURE\\n  RO-1 Feed FLOW (m3/hr)  RO-1 Permeate FLOW (KL)  \\\n",
      "0                  NaN                     NaN                      NaN   \n",
      "1                  NaN                     NaN                      NaN   \n",
      "2                  NaN                     NaN                      NaN   \n",
      "3                  NaN                     NaN                      NaN   \n",
      "4                  NaN                     NaN                      NaN   \n",
      "\n",
      "   RO-1 REJECT FLOW (KL)  \n",
      "0                    NaN  \n",
      "1                    NaN  \n",
      "2                    NaN  \n",
      "3                    NaN  \n",
      "4                    NaN  \n",
      "\n",
      "[5 rows x 38 columns]\n"
     ]
    }
   ],
   "source": [
    "import pandas as pd\n",
    "\n",
    "# Load Excel file (raw, just to see original)\n",
    "df_raw = pd.read_excel(\"C:/Users/9272.IONEXCH/Project/RO Dignostics/RO-1 Data.xlsx\")\n",
    "print(df_raw.head())   # Just for inspection\n",
    "\n",
    "df = pd.read_excel(\n",
    "    \"C:/Users/9272.IONEXCH/Project/RO Dignostics/RO-1 Data.xlsx\",\n",
    "    sheet_name=\"Sheet1\",\n",
    "    header=0   \n",
    ")\n",
    "\n",
    " "
   ]
  },
  {
   "cell_type": "code",
   "execution_count": 34,
   "id": "d544a928-e3ea-49c1-9d83-299e6a938123",
   "metadata": {},
   "outputs": [
    {
     "data": {
      "text/plain": [
       "(643, 38)"
      ]
     },
     "execution_count": 34,
     "metadata": {},
     "output_type": "execute_result"
    }
   ],
   "source": [
    "df.shape"
   ]
  },
  {
   "cell_type": "code",
   "execution_count": 35,
   "id": "4dc66815-92e9-4b03-a940-d406f7978358",
   "metadata": {},
   "outputs": [
    {
     "name": "stdout",
     "output_type": "stream",
     "text": [
      "<class 'pandas.core.frame.DataFrame'>\n",
      "RangeIndex: 643 entries, 0 to 642\n",
      "Data columns (total 38 columns):\n",
      " #   Column                      Non-Null Count  Dtype         \n",
      "---  ------                      --------------  -----         \n",
      " 0   Date                        643 non-null    datetime64[ns]\n",
      " 1   RO-1 Feed pH                482 non-null    float64       \n",
      " 2   RO-1 Feed  EC\n",
      "(µs/cms)      380 non-null    float64       \n",
      " 3   RO-1 Feed  TDS (mg/l)       321 non-null    float64       \n",
      " 4   RO-1 Feed  TSS (mg/l)       341 non-null    object        \n",
      " 5   RO-1 Feed Turbidity\n",
      "NTU     195 non-null    float64       \n",
      " 6   RO-1 Feed  COD (mg/l)       439 non-null    float64       \n",
      " 7   RO-1 Feed  BOD (mg/l)       85 non-null     object        \n",
      " 8   RO-1 Feed BOD:\n",
      "COD\n",
      "Ratio    28 non-null     float64       \n",
      " 9   RO-1 Feed NH3N (mg/l)       218 non-null    float64       \n",
      " 10  RO-1 Feed Zinc (mg/l)       111 non-null    float64       \n",
      " 11  RO-1 Feed Total Hardness    175 non-null    float64       \n",
      " 12  RO-1 Feed Ca Hardness       176 non-null    float64       \n",
      " 13  RO-1 Feed Total Alkalinity  104 non-null    float64       \n",
      " 14  RO-1 Feed PO4 (mg/l)        176 non-null    object        \n",
      " 15  RO-1 Feed T-Fe (mg/l)       115 non-null    float64       \n",
      " 16  RO-1 Feed\n",
      "SDI               109 non-null    float64       \n",
      " 17  RO-1 P PH                   402 non-null    float64       \n",
      " 18  RO-1 P COND\n",
      "µs/cms          401 non-null    float64       \n",
      " 19  RO-1 P TDS\n",
      "(mg/l)           135 non-null    float64       \n",
      " 20  RO-1 P COD\n",
      "(mg/l)           194 non-null    object        \n",
      " 21  RO-1 P Total Hardnes        74 non-null     object        \n",
      " 22  RO-1 P Ca Hardness          71 non-null     object        \n",
      " 23  RO-1 P NH3N (mg/l)          174 non-null    float64       \n",
      " 24  RO-1 R SDI                  4 non-null      float64       \n",
      " 25  RO-1 R PH                   392 non-null    float64       \n",
      " 26  RO-1 R COND\n",
      "µs/cms          392 non-null    float64       \n",
      " 27  RO-1 R TSS                  242 non-null    float64       \n",
      " 28  RO-1 R TDS\n",
      "(mg/l)           217 non-null    float64       \n",
      " 29  RO-1 R Total Hardnes        82 non-null     float64       \n",
      " 30  RO-1 R Ca Hardness          82 non-null     float64       \n",
      " 31  RO-1 R Total Alkalinity     81 non-null     float64       \n",
      " 32  RO-1 R COD\n",
      "(mg/l)           210 non-null    float64       \n",
      " 33  RO 1 FEED PRESSURE\n",
      "         301 non-null    float64       \n",
      " 34  RO 1 Rej PRESSURE\n",
      "          301 non-null    float64       \n",
      " 35  RO-1 Feed FLOW (m3/hr)      305 non-null    float64       \n",
      " 36  RO-1 Permeate FLOW (KL)     301 non-null    float64       \n",
      " 37  RO-1 REJECT FLOW (KL)       301 non-null    float64       \n",
      "dtypes: datetime64[ns](1), float64(31), object(6)\n",
      "memory usage: 191.0+ KB\n"
     ]
    }
   ],
   "source": [
    "df.info()"
   ]
  },
  {
   "cell_type": "code",
   "execution_count": 36,
   "id": "f084e705-68af-4691-aece-059565c1a652",
   "metadata": {},
   "outputs": [],
   "source": [
    "# Drop rows where Date is missing\n",
    "if \"Date\" in df.columns:\n",
    "    df.dropna(subset=[\"Date\"], inplace=True)\n",
    "else:\n",
    "    print(\"Error: Column 'Date' not found in the DataFrame.\")\n",
    "    import sys\n",
    "    sys.exit(1)"
   ]
  },
  {
   "cell_type": "code",
   "execution_count": 37,
   "id": "1a25c941-7977-421c-8a06-39eb4ead4773",
   "metadata": {},
   "outputs": [
    {
     "name": "stdout",
     "output_type": "stream",
     "text": [
      "<class 'pandas.core.frame.DataFrame'>\n",
      "RangeIndex: 643 entries, 0 to 642\n",
      "Data columns (total 38 columns):\n",
      " #   Column                      Non-Null Count  Dtype         \n",
      "---  ------                      --------------  -----         \n",
      " 0   Date                        643 non-null    datetime64[ns]\n",
      " 1   RO-1 Feed pH                482 non-null    float64       \n",
      " 2   RO-1 Feed  EC\n",
      "(µs/cms)      380 non-null    float64       \n",
      " 3   RO-1 Feed  TDS (mg/l)       321 non-null    float64       \n",
      " 4   RO-1 Feed  TSS (mg/l)       341 non-null    object        \n",
      " 5   RO-1 Feed Turbidity\n",
      "NTU     195 non-null    float64       \n",
      " 6   RO-1 Feed  COD (mg/l)       439 non-null    float64       \n",
      " 7   RO-1 Feed  BOD (mg/l)       85 non-null     object        \n",
      " 8   RO-1 Feed BOD:\n",
      "COD\n",
      "Ratio    28 non-null     float64       \n",
      " 9   RO-1 Feed NH3N (mg/l)       218 non-null    float64       \n",
      " 10  RO-1 Feed Zinc (mg/l)       111 non-null    float64       \n",
      " 11  RO-1 Feed Total Hardness    175 non-null    float64       \n",
      " 12  RO-1 Feed Ca Hardness       176 non-null    float64       \n",
      " 13  RO-1 Feed Total Alkalinity  104 non-null    float64       \n",
      " 14  RO-1 Feed PO4 (mg/l)        176 non-null    object        \n",
      " 15  RO-1 Feed T-Fe (mg/l)       115 non-null    float64       \n",
      " 16  RO-1 Feed\n",
      "SDI               109 non-null    float64       \n",
      " 17  RO-1 P PH                   402 non-null    float64       \n",
      " 18  RO-1 P COND\n",
      "µs/cms          401 non-null    float64       \n",
      " 19  RO-1 P TDS\n",
      "(mg/l)           135 non-null    float64       \n",
      " 20  RO-1 P COD\n",
      "(mg/l)           194 non-null    object        \n",
      " 21  RO-1 P Total Hardnes        74 non-null     object        \n",
      " 22  RO-1 P Ca Hardness          71 non-null     object        \n",
      " 23  RO-1 P NH3N (mg/l)          174 non-null    float64       \n",
      " 24  RO-1 R SDI                  4 non-null      float64       \n",
      " 25  RO-1 R PH                   392 non-null    float64       \n",
      " 26  RO-1 R COND\n",
      "µs/cms          392 non-null    float64       \n",
      " 27  RO-1 R TSS                  242 non-null    float64       \n",
      " 28  RO-1 R TDS\n",
      "(mg/l)           217 non-null    float64       \n",
      " 29  RO-1 R Total Hardnes        82 non-null     float64       \n",
      " 30  RO-1 R Ca Hardness          82 non-null     float64       \n",
      " 31  RO-1 R Total Alkalinity     81 non-null     float64       \n",
      " 32  RO-1 R COD\n",
      "(mg/l)           210 non-null    float64       \n",
      " 33  RO 1 FEED PRESSURE\n",
      "         301 non-null    float64       \n",
      " 34  RO 1 Rej PRESSURE\n",
      "          301 non-null    float64       \n",
      " 35  RO-1 Feed FLOW (m3/hr)      305 non-null    float64       \n",
      " 36  RO-1 Permeate FLOW (KL)     301 non-null    float64       \n",
      " 37  RO-1 REJECT FLOW (KL)       301 non-null    float64       \n",
      "dtypes: datetime64[ns](1), float64(31), object(6)\n",
      "memory usage: 191.0+ KB\n"
     ]
    }
   ],
   "source": [
    "df.info()"
   ]
  },
  {
   "cell_type": "code",
   "execution_count": 38,
   "id": "e2f3a3fd-e87c-4cdd-b80d-32f5d9bbc4df",
   "metadata": {},
   "outputs": [
    {
     "name": "stdout",
     "output_type": "stream",
     "text": [
      "        Date  RO-1_Feed_pH  RO-1_Feed__EC_(µs/cms)  RO-1_Feed__TDS_(mg/l)  \\\n",
      "0 2023-12-15          7.90                     NaN                    NaN   \n",
      "1 2023-12-16           NaN                     NaN                    NaN   \n",
      "2 2023-12-17          7.70                     NaN                    NaN   \n",
      "3 2023-12-18          7.65                     NaN                    NaN   \n",
      "4 2023-12-19          7.80                     NaN                    NaN   \n",
      "\n",
      "  RO-1_Feed__TSS_(mg/l)  RO-1_Feed_Turbidity_NTU  RO-1_Feed__COD_(mg/l)  \\\n",
      "0                    ND                      0.3                    NaN   \n",
      "1                   NaN                      NaN                    NaN   \n",
      "2                   NaN                      0.7                    NaN   \n",
      "3                    ND                      0.5                  450.0   \n",
      "4                   NaN                      0.8                    NaN   \n",
      "\n",
      "  RO-1_Feed__BOD_(mg/l)  RO-1_Feed_BOD:_COD_Ratio  RO-1_Feed_NH3N_(mg/l)  ...  \\\n",
      "0                   NaN                       NaN                    NaN  ...   \n",
      "1                   NaN                       NaN                    NaN  ...   \n",
      "2                   NaN                       NaN                    NaN  ...   \n",
      "3                   NaN                       NaN                    NaN  ...   \n",
      "4                   NaN                       NaN                    NaN  ...   \n",
      "\n",
      "   RO-1_R_TDS_(mg/l)  RO-1_R_Total_Hardnes  RO-1_R_Ca_Hardness  \\\n",
      "0             6290.0                   NaN                 NaN   \n",
      "1                NaN                   NaN                 NaN   \n",
      "2                NaN                   NaN                 NaN   \n",
      "3                NaN                   NaN                 NaN   \n",
      "4                NaN                   NaN                 NaN   \n",
      "\n",
      "   RO-1_R_Total_Alkalinity RO-1_R_COD_(mg/l)  RO_1_FEED_PRESSURE  \\\n",
      "0                      NaN             760.0                 NaN   \n",
      "1                      NaN               NaN                 NaN   \n",
      "2                      NaN               NaN                 NaN   \n",
      "3                      NaN               NaN                 NaN   \n",
      "4                      NaN               NaN                 NaN   \n",
      "\n",
      "   RO_1_Rej_PRESSURE  RO-1_Feed_FLOW_(m3/hr)  RO-1_Permeate_FLOW_(KL)  \\\n",
      "0                NaN                     NaN                      NaN   \n",
      "1                NaN                     NaN                      NaN   \n",
      "2                NaN                     NaN                      NaN   \n",
      "3                NaN                     NaN                      NaN   \n",
      "4                NaN                     NaN                      NaN   \n",
      "\n",
      "   RO-1_REJECT_FLOW_(KL)  \n",
      "0                    NaN  \n",
      "1                    NaN  \n",
      "2                    NaN  \n",
      "3                    NaN  \n",
      "4                    NaN  \n",
      "\n",
      "[5 rows x 38 columns]\n",
      "Index(['Date', 'RO-1_Feed_pH', 'RO-1_Feed__EC_(µs/cms)',\n",
      "       'RO-1_Feed__TDS_(mg/l)', 'RO-1_Feed__TSS_(mg/l)',\n",
      "       'RO-1_Feed_Turbidity_NTU', 'RO-1_Feed__COD_(mg/l)',\n",
      "       'RO-1_Feed__BOD_(mg/l)', 'RO-1_Feed_BOD:_COD_Ratio',\n",
      "       'RO-1_Feed_NH3N_(mg/l)', 'RO-1_Feed_Zinc_(mg/l)',\n",
      "       'RO-1_Feed_Total_Hardness', 'RO-1_Feed_Ca_Hardness',\n",
      "       'RO-1_Feed_Total_Alkalinity', 'RO-1_Feed_PO4_(mg/l)',\n",
      "       'RO-1_Feed_T-Fe_(mg/l)', 'RO-1_Feed_SDI', 'RO-1_P_PH',\n",
      "       'RO-1_P_COND_µs/cms', 'RO-1_P_TDS_(mg/l)', 'RO-1_P_COD_(mg/l)',\n",
      "       'RO-1_P_Total_Hardnes', 'RO-1_P_Ca_Hardness', 'RO-1_P_NH3N_(mg/l)',\n",
      "       'RO-1_R_SDI', 'RO-1_R_PH', 'RO-1_R_COND_µs/cms', 'RO-1_R_TSS',\n",
      "       'RO-1_R_TDS_(mg/l)', 'RO-1_R_Total_Hardnes', 'RO-1_R_Ca_Hardness',\n",
      "       'RO-1_R_Total_Alkalinity', 'RO-1_R_COD_(mg/l)', 'RO_1_FEED_PRESSURE',\n",
      "       'RO_1_Rej_PRESSURE', 'RO-1_Feed_FLOW_(m3/hr)',\n",
      "       'RO-1_Permeate_FLOW_(KL)', 'RO-1_REJECT_FLOW_(KL)'],\n",
      "      dtype='object')\n",
      "✅ Cleaned file saved at: C:/Users/9272.IONEXCH/Project/RO Dignostics/RO-1_cleaned.xlsx\n"
     ]
    }
   ],
   "source": [
    "\n",
    "\n",
    "# Convert Date to datetime\n",
    "df[\"Date\"] = pd.to_datetime(df[\"Date\"], errors=\"coerce\")\n",
    "\n",
    "# Drop completely empty columns\n",
    "df = df.dropna(axis=1, how=\"all\")\n",
    "\n",
    "# Simplify column names\n",
    "df = df.rename(columns=lambda x: str(x).strip().replace(\"\\n\", \"_\").replace(\" \", \"_\"))\n",
    "\n",
    "print(df.head())\n",
    "print(df.columns)\n",
    "\n",
    "# Save cleaned dataframe to Excel\n",
    "output_path = \"C:/Users/9272.IONEXCH/Project/RO Dignostics/RO-1_cleaned.xlsx\"\n",
    "df.to_excel(output_path, index=False)\n",
    "\n",
    "print(f\"✅ Cleaned file saved at: {output_path}\")\n"
   ]
  },
  {
   "cell_type": "code",
   "execution_count": null,
   "id": "1107d06f-a1d6-47bf-b780-8787982f36d9",
   "metadata": {},
   "outputs": [],
   "source": []
  },
  {
   "cell_type": "markdown",
   "id": "51df2b16-b92d-4ff6-a4bb-71e8e451a988",
   "metadata": {},
   "source": [
    "Load CLeaned Df"
   ]
  },
  {
   "cell_type": "code",
   "execution_count": 44,
   "id": "ba0abb9d-5aad-4e97-a586-c9b4063da790",
   "metadata": {},
   "outputs": [
    {
     "name": "stdout",
     "output_type": "stream",
     "text": [
      "rows,cols: (643, 38)\n",
      "['Date', 'RO-1_Feed_pH', 'RO-1_Feed__EC_(µs/cms)', 'RO-1_Feed__TDS_(mg/l)', 'RO-1_Feed__TSS_(mg/l)', 'RO-1_Feed_Turbidity_NTU', 'RO-1_Feed__COD_(mg/l)', 'RO-1_Feed__BOD_(mg/l)', 'RO-1_Feed_BOD:_COD_Ratio', 'RO-1_Feed_NH3N_(mg/l)', 'RO-1_Feed_Zinc_(mg/l)', 'RO-1_Feed_Total_Hardness', 'RO-1_Feed_Ca_Hardness', 'RO-1_Feed_Total_Alkalinity', 'RO-1_Feed_PO4_(mg/l)', 'RO-1_Feed_T-Fe_(mg/l)', 'RO-1_Feed_SDI', 'RO-1_P_PH', 'RO-1_P_COND_µs/cms', 'RO-1_P_TDS_(mg/l)', 'RO-1_P_COD_(mg/l)', 'RO-1_P_Total_Hardnes', 'RO-1_P_Ca_Hardness', 'RO-1_P_NH3N_(mg/l)', 'RO-1_R_SDI', 'RO-1_R_PH', 'RO-1_R_COND_µs/cms', 'RO-1_R_TSS', 'RO-1_R_TDS_(mg/l)', 'RO-1_R_Total_Hardnes', 'RO-1_R_Ca_Hardness', 'RO-1_R_Total_Alkalinity', 'RO-1_R_COD_(mg/l)', 'RO_1_FEED_PRESSURE', 'RO_1_Rej_PRESSURE', 'RO-1_Feed_FLOW_(m3/hr)', 'RO-1_Permeate_FLOW_(KL)', 'RO-1_REJECT_FLOW_(KL)']\n"
     ]
    },
    {
     "data": {
      "text/html": [
       "<div>\n",
       "<style scoped>\n",
       "    .dataframe tbody tr th:only-of-type {\n",
       "        vertical-align: middle;\n",
       "    }\n",
       "\n",
       "    .dataframe tbody tr th {\n",
       "        vertical-align: top;\n",
       "    }\n",
       "\n",
       "    .dataframe thead th {\n",
       "        text-align: right;\n",
       "    }\n",
       "</style>\n",
       "<table border=\"1\" class=\"dataframe\">\n",
       "  <thead>\n",
       "    <tr style=\"text-align: right;\">\n",
       "      <th></th>\n",
       "      <th>Date</th>\n",
       "      <th>RO-1_Feed_pH</th>\n",
       "      <th>RO-1_Feed__EC_(µs/cms)</th>\n",
       "      <th>RO-1_Feed__TDS_(mg/l)</th>\n",
       "      <th>RO-1_Feed__TSS_(mg/l)</th>\n",
       "      <th>RO-1_Feed_Turbidity_NTU</th>\n",
       "      <th>RO-1_Feed__COD_(mg/l)</th>\n",
       "      <th>RO-1_Feed__BOD_(mg/l)</th>\n",
       "      <th>RO-1_Feed_BOD:_COD_Ratio</th>\n",
       "      <th>RO-1_Feed_NH3N_(mg/l)</th>\n",
       "      <th>...</th>\n",
       "      <th>RO-1_R_TDS_(mg/l)</th>\n",
       "      <th>RO-1_R_Total_Hardnes</th>\n",
       "      <th>RO-1_R_Ca_Hardness</th>\n",
       "      <th>RO-1_R_Total_Alkalinity</th>\n",
       "      <th>RO-1_R_COD_(mg/l)</th>\n",
       "      <th>RO_1_FEED_PRESSURE</th>\n",
       "      <th>RO_1_Rej_PRESSURE</th>\n",
       "      <th>RO-1_Feed_FLOW_(m3/hr)</th>\n",
       "      <th>RO-1_Permeate_FLOW_(KL)</th>\n",
       "      <th>RO-1_REJECT_FLOW_(KL)</th>\n",
       "    </tr>\n",
       "  </thead>\n",
       "  <tbody>\n",
       "    <tr>\n",
       "      <th>0</th>\n",
       "      <td>2023-12-15</td>\n",
       "      <td>7.90</td>\n",
       "      <td>NaN</td>\n",
       "      <td>NaN</td>\n",
       "      <td>ND</td>\n",
       "      <td>0.3</td>\n",
       "      <td>NaN</td>\n",
       "      <td>NaN</td>\n",
       "      <td>NaN</td>\n",
       "      <td>NaN</td>\n",
       "      <td>...</td>\n",
       "      <td>6290.0</td>\n",
       "      <td>NaN</td>\n",
       "      <td>NaN</td>\n",
       "      <td>NaN</td>\n",
       "      <td>760.0</td>\n",
       "      <td>NaN</td>\n",
       "      <td>NaN</td>\n",
       "      <td>NaN</td>\n",
       "      <td>NaN</td>\n",
       "      <td>NaN</td>\n",
       "    </tr>\n",
       "    <tr>\n",
       "      <th>1</th>\n",
       "      <td>2023-12-16</td>\n",
       "      <td>NaN</td>\n",
       "      <td>NaN</td>\n",
       "      <td>NaN</td>\n",
       "      <td>NaN</td>\n",
       "      <td>NaN</td>\n",
       "      <td>NaN</td>\n",
       "      <td>NaN</td>\n",
       "      <td>NaN</td>\n",
       "      <td>NaN</td>\n",
       "      <td>...</td>\n",
       "      <td>NaN</td>\n",
       "      <td>NaN</td>\n",
       "      <td>NaN</td>\n",
       "      <td>NaN</td>\n",
       "      <td>NaN</td>\n",
       "      <td>NaN</td>\n",
       "      <td>NaN</td>\n",
       "      <td>NaN</td>\n",
       "      <td>NaN</td>\n",
       "      <td>NaN</td>\n",
       "    </tr>\n",
       "    <tr>\n",
       "      <th>2</th>\n",
       "      <td>2023-12-17</td>\n",
       "      <td>7.70</td>\n",
       "      <td>NaN</td>\n",
       "      <td>NaN</td>\n",
       "      <td>NaN</td>\n",
       "      <td>0.7</td>\n",
       "      <td>NaN</td>\n",
       "      <td>NaN</td>\n",
       "      <td>NaN</td>\n",
       "      <td>NaN</td>\n",
       "      <td>...</td>\n",
       "      <td>NaN</td>\n",
       "      <td>NaN</td>\n",
       "      <td>NaN</td>\n",
       "      <td>NaN</td>\n",
       "      <td>NaN</td>\n",
       "      <td>NaN</td>\n",
       "      <td>NaN</td>\n",
       "      <td>NaN</td>\n",
       "      <td>NaN</td>\n",
       "      <td>NaN</td>\n",
       "    </tr>\n",
       "    <tr>\n",
       "      <th>3</th>\n",
       "      <td>2023-12-18</td>\n",
       "      <td>7.65</td>\n",
       "      <td>NaN</td>\n",
       "      <td>NaN</td>\n",
       "      <td>ND</td>\n",
       "      <td>0.5</td>\n",
       "      <td>450.0</td>\n",
       "      <td>NaN</td>\n",
       "      <td>NaN</td>\n",
       "      <td>NaN</td>\n",
       "      <td>...</td>\n",
       "      <td>NaN</td>\n",
       "      <td>NaN</td>\n",
       "      <td>NaN</td>\n",
       "      <td>NaN</td>\n",
       "      <td>NaN</td>\n",
       "      <td>NaN</td>\n",
       "      <td>NaN</td>\n",
       "      <td>NaN</td>\n",
       "      <td>NaN</td>\n",
       "      <td>NaN</td>\n",
       "    </tr>\n",
       "    <tr>\n",
       "      <th>4</th>\n",
       "      <td>2023-12-19</td>\n",
       "      <td>7.80</td>\n",
       "      <td>NaN</td>\n",
       "      <td>NaN</td>\n",
       "      <td>NaN</td>\n",
       "      <td>0.8</td>\n",
       "      <td>NaN</td>\n",
       "      <td>NaN</td>\n",
       "      <td>NaN</td>\n",
       "      <td>NaN</td>\n",
       "      <td>...</td>\n",
       "      <td>NaN</td>\n",
       "      <td>NaN</td>\n",
       "      <td>NaN</td>\n",
       "      <td>NaN</td>\n",
       "      <td>NaN</td>\n",
       "      <td>NaN</td>\n",
       "      <td>NaN</td>\n",
       "      <td>NaN</td>\n",
       "      <td>NaN</td>\n",
       "      <td>NaN</td>\n",
       "    </tr>\n",
       "  </tbody>\n",
       "</table>\n",
       "<p>5 rows × 38 columns</p>\n",
       "</div>"
      ],
      "text/plain": [
       "        Date  RO-1_Feed_pH  RO-1_Feed__EC_(µs/cms)  RO-1_Feed__TDS_(mg/l)  \\\n",
       "0 2023-12-15          7.90                     NaN                    NaN   \n",
       "1 2023-12-16           NaN                     NaN                    NaN   \n",
       "2 2023-12-17          7.70                     NaN                    NaN   \n",
       "3 2023-12-18          7.65                     NaN                    NaN   \n",
       "4 2023-12-19          7.80                     NaN                    NaN   \n",
       "\n",
       "  RO-1_Feed__TSS_(mg/l)  RO-1_Feed_Turbidity_NTU  RO-1_Feed__COD_(mg/l)  \\\n",
       "0                    ND                      0.3                    NaN   \n",
       "1                   NaN                      NaN                    NaN   \n",
       "2                   NaN                      0.7                    NaN   \n",
       "3                    ND                      0.5                  450.0   \n",
       "4                   NaN                      0.8                    NaN   \n",
       "\n",
       "  RO-1_Feed__BOD_(mg/l)  RO-1_Feed_BOD:_COD_Ratio  RO-1_Feed_NH3N_(mg/l)  ...  \\\n",
       "0                   NaN                       NaN                    NaN  ...   \n",
       "1                   NaN                       NaN                    NaN  ...   \n",
       "2                   NaN                       NaN                    NaN  ...   \n",
       "3                   NaN                       NaN                    NaN  ...   \n",
       "4                   NaN                       NaN                    NaN  ...   \n",
       "\n",
       "   RO-1_R_TDS_(mg/l)  RO-1_R_Total_Hardnes  RO-1_R_Ca_Hardness  \\\n",
       "0             6290.0                   NaN                 NaN   \n",
       "1                NaN                   NaN                 NaN   \n",
       "2                NaN                   NaN                 NaN   \n",
       "3                NaN                   NaN                 NaN   \n",
       "4                NaN                   NaN                 NaN   \n",
       "\n",
       "   RO-1_R_Total_Alkalinity RO-1_R_COD_(mg/l)  RO_1_FEED_PRESSURE  \\\n",
       "0                      NaN             760.0                 NaN   \n",
       "1                      NaN               NaN                 NaN   \n",
       "2                      NaN               NaN                 NaN   \n",
       "3                      NaN               NaN                 NaN   \n",
       "4                      NaN               NaN                 NaN   \n",
       "\n",
       "   RO_1_Rej_PRESSURE  RO-1_Feed_FLOW_(m3/hr)  RO-1_Permeate_FLOW_(KL)  \\\n",
       "0                NaN                     NaN                      NaN   \n",
       "1                NaN                     NaN                      NaN   \n",
       "2                NaN                     NaN                      NaN   \n",
       "3                NaN                     NaN                      NaN   \n",
       "4                NaN                     NaN                      NaN   \n",
       "\n",
       "   RO-1_REJECT_FLOW_(KL)  \n",
       "0                    NaN  \n",
       "1                    NaN  \n",
       "2                    NaN  \n",
       "3                    NaN  \n",
       "4                    NaN  \n",
       "\n",
       "[5 rows x 38 columns]"
      ]
     },
     "execution_count": 44,
     "metadata": {},
     "output_type": "execute_result"
    }
   ],
   "source": [
    "import pandas as pd\n",
    "import numpy as np\n",
    "import re\n",
    "\n",
    "# path to your cleaned file (or to the raw file and set header accordingly)\n",
    "file_path = r\"C:/Users/9272.IONEXCH/Project/RO Dignostics/RO-1_cleaned.xlsx\"\n",
    "\n",
    "# if you haven't cleaned yet, use header=0 or header=1 accordingly:\n",
    "df = pd.read_excel(file_path, sheet_name=\"Sheet1\", header=0)\n",
    "print(\"rows,cols:\", df.shape)\n",
    "print(df.columns.tolist())\n",
    "df.head()"
   ]
  },
  {
   "cell_type": "code",
   "execution_count": 45,
   "id": "7baee55e-0cc8-4679-b614-2ae5ccd4fc8e",
   "metadata": {},
   "outputs": [
    {
     "name": "stdout",
     "output_type": "stream",
     "text": [
      "<class 'pandas.core.frame.DataFrame'>\n",
      "RangeIndex: 643 entries, 0 to 642\n",
      "Data columns (total 38 columns):\n",
      " #   Column                      Non-Null Count  Dtype         \n",
      "---  ------                      --------------  -----         \n",
      " 0   Date                        643 non-null    datetime64[ns]\n",
      " 1   RO-1_Feed_pH                482 non-null    float64       \n",
      " 2   RO-1_Feed__EC_(µs/cms)      380 non-null    float64       \n",
      " 3   RO-1_Feed__TDS_(mg/l)       321 non-null    float64       \n",
      " 4   RO-1_Feed__TSS_(mg/l)       341 non-null    object        \n",
      " 5   RO-1_Feed_Turbidity_NTU     195 non-null    float64       \n",
      " 6   RO-1_Feed__COD_(mg/l)       439 non-null    float64       \n",
      " 7   RO-1_Feed__BOD_(mg/l)       85 non-null     object        \n",
      " 8   RO-1_Feed_BOD:_COD_Ratio    28 non-null     float64       \n",
      " 9   RO-1_Feed_NH3N_(mg/l)       218 non-null    float64       \n",
      " 10  RO-1_Feed_Zinc_(mg/l)       111 non-null    float64       \n",
      " 11  RO-1_Feed_Total_Hardness    175 non-null    float64       \n",
      " 12  RO-1_Feed_Ca_Hardness       176 non-null    float64       \n",
      " 13  RO-1_Feed_Total_Alkalinity  104 non-null    float64       \n",
      " 14  RO-1_Feed_PO4_(mg/l)        176 non-null    object        \n",
      " 15  RO-1_Feed_T-Fe_(mg/l)       115 non-null    float64       \n",
      " 16  RO-1_Feed_SDI               109 non-null    float64       \n",
      " 17  RO-1_P_PH                   402 non-null    float64       \n",
      " 18  RO-1_P_COND_µs/cms          401 non-null    float64       \n",
      " 19  RO-1_P_TDS_(mg/l)           135 non-null    float64       \n",
      " 20  RO-1_P_COD_(mg/l)           194 non-null    object        \n",
      " 21  RO-1_P_Total_Hardnes        74 non-null     object        \n",
      " 22  RO-1_P_Ca_Hardness          71 non-null     object        \n",
      " 23  RO-1_P_NH3N_(mg/l)          174 non-null    float64       \n",
      " 24  RO-1_R_SDI                  4 non-null      float64       \n",
      " 25  RO-1_R_PH                   392 non-null    float64       \n",
      " 26  RO-1_R_COND_µs/cms          392 non-null    float64       \n",
      " 27  RO-1_R_TSS                  242 non-null    float64       \n",
      " 28  RO-1_R_TDS_(mg/l)           217 non-null    float64       \n",
      " 29  RO-1_R_Total_Hardnes        82 non-null     float64       \n",
      " 30  RO-1_R_Ca_Hardness          82 non-null     float64       \n",
      " 31  RO-1_R_Total_Alkalinity     81 non-null     float64       \n",
      " 32  RO-1_R_COD_(mg/l)           210 non-null    float64       \n",
      " 33  RO_1_FEED_PRESSURE          301 non-null    float64       \n",
      " 34  RO_1_Rej_PRESSURE           301 non-null    float64       \n",
      " 35  RO-1_Feed_FLOW_(m3/hr)      305 non-null    float64       \n",
      " 36  RO-1_Permeate_FLOW_(KL)     301 non-null    float64       \n",
      " 37  RO-1_REJECT_FLOW_(KL)       301 non-null    float64       \n",
      "dtypes: datetime64[ns](1), float64(31), object(6)\n",
      "memory usage: 191.0+ KB\n"
     ]
    }
   ],
   "source": [
    "df.info()"
   ]
  },
  {
   "cell_type": "markdown",
   "id": "0c3afb8c-8b73-492a-ba83-923dab76c5ec",
   "metadata": {},
   "source": [
    "1. Handling \"ND\", \"NA\", \"-\", etc.\n",
    "\n",
    "These are non-detects or placeholders. We should convert them to NaN so Pandas treats them as missing values:"
   ]
  },
  {
   "cell_type": "code",
   "execution_count": 46,
   "id": "a4959a3c-5098-4092-bf3b-f2f1f92aba1a",
   "metadata": {},
   "outputs": [],
   "source": [
    "df = df.replace({\"ND\": np.nan, \"nd\": np.nan, \"NA\": np.nan, \"na\": np.nan, \"-\": np.nan, \"\": np.nan})\n"
   ]
  },
  {
   "cell_type": "code",
   "execution_count": 47,
   "id": "0a89f66b-3537-43f9-803c-9031404bc998",
   "metadata": {},
   "outputs": [
    {
     "ename": "SyntaxError",
     "evalue": "invalid syntax (2453043254.py, line 1)",
     "output_type": "error",
     "traceback": [
      "\u001b[1;36m  Cell \u001b[1;32mIn[47], line 1\u001b[1;36m\u001b[0m\n\u001b[1;33m    Fill Missing Values\u001b[0m\n\u001b[1;37m         ^\u001b[0m\n\u001b[1;31mSyntaxError\u001b[0m\u001b[1;31m:\u001b[0m invalid syntax\n"
     ]
    }
   ],
   "source": [
    "Fill Missing Values\n",
    "\n",
    "We want to keep the dataset continuous:\n",
    "\n",
    "Forward Fill (FFILL): Use last known value until new one appears. Works well if plant operation is steady."
   ]
  },
  {
   "cell_type": "code",
   "execution_count": 48,
   "id": "dc96d683-c897-4418-86c7-d882ea2ee489",
   "metadata": {},
   "outputs": [
    {
     "name": "stderr",
     "output_type": "stream",
     "text": [
      "C:\\Users\\9272.IONEXCH\\AppData\\Local\\Temp\\ipykernel_16024\\761454162.py:1: FutureWarning: DataFrame.interpolate with object dtype is deprecated and will raise in a future version. Call obj.infer_objects(copy=False) before interpolating instead.\n",
      "  df = df.interpolate(method=\"linear\")\n"
     ]
    }
   ],
   "source": [
    "df = df.interpolate(method=\"linear\")\n"
   ]
  },
  {
   "cell_type": "code",
   "execution_count": 49,
   "id": "26c91719-09e2-41a1-9dbe-c1ad81e897a3",
   "metadata": {},
   "outputs": [
    {
     "name": "stdout",
     "output_type": "stream",
     "text": [
      "✅ Cleaned file saved at: C:/Users/9272.IONEXCH/Project/RO Dignostics/RO-1_cleaned_final.xlsx\n"
     ]
    }
   ],
   "source": [
    "# Save cleaned dataframe to Excel\n",
    "output_path = \"C:/Users/9272.IONEXCH/Project/RO Dignostics/RO-1_cleaned_final.xlsx\"\n",
    "df.to_excel(output_path, index=False)\n",
    "\n",
    "print(f\"✅ Cleaned file saved at: {output_path}\")\n"
   ]
  },
  {
   "cell_type": "markdown",
   "id": "2d85b738-6f73-476f-acd6-e8dcce57a32e",
   "metadata": {},
   "source": [
    "Load final Cleaned df"
   ]
  },
  {
   "cell_type": "code",
   "execution_count": 71,
   "id": "6ad40c73-ede0-4c0d-86eb-7daad6d58c25",
   "metadata": {},
   "outputs": [
    {
     "name": "stdout",
     "output_type": "stream",
     "text": [
      "rows,cols: (643, 38)\n",
      "['Date', 'RO-1_Feed_pH', 'RO-1_Feed__EC_(µs/cms)', 'RO-1_Feed__TDS_(mg/l)', 'RO-1_Feed__TSS_(mg/l)', 'RO-1_Feed_Turbidity_NTU', 'RO-1_Feed__COD_(mg/l)', 'RO-1_Feed__BOD_(mg/l)', 'RO-1_Feed_BOD:_COD_Ratio', 'RO-1_Feed_NH3N_(mg/l)', 'RO-1_Feed_Zinc_(mg/l)', 'RO-1_Feed_Total_Hardness', 'RO-1_Feed_Ca_Hardness', 'RO-1_Feed_Total_Alkalinity', 'RO-1_Feed_PO4_(mg/l)', 'RO-1_Feed_T-Fe_(mg/l)', 'RO-1_Feed_SDI', 'RO-1_P_PH', 'RO-1_P_COND_µs/cms', 'RO-1_P_TDS_(mg/l)', 'RO-1_P_COD_(mg/l)', 'RO-1_P_Total_Hardnes', 'RO-1_P_Ca_Hardness', 'RO-1_P_NH3N_(mg/l)', 'RO-1_R_SDI', 'RO-1_R_PH', 'RO-1_R_COND_µs/cms', 'RO-1_R_TSS', 'RO-1_R_TDS_(mg/l)', 'RO-1_R_Total_Hardnes', 'RO-1_R_Ca_Hardness', 'RO-1_R_Total_Alkalinity', 'RO-1_R_COD_(mg/l)', 'RO_1_FEED_PRESSURE', 'RO_1_Rej_PRESSURE', 'RO-1_Feed_FLOW_(m3/hr)', 'RO-1_Permeate_FLOW_(KL)', 'RO-1_REJECT_FLOW_(KL)']\n"
     ]
    },
    {
     "data": {
      "text/html": [
       "<div>\n",
       "<style scoped>\n",
       "    .dataframe tbody tr th:only-of-type {\n",
       "        vertical-align: middle;\n",
       "    }\n",
       "\n",
       "    .dataframe tbody tr th {\n",
       "        vertical-align: top;\n",
       "    }\n",
       "\n",
       "    .dataframe thead th {\n",
       "        text-align: right;\n",
       "    }\n",
       "</style>\n",
       "<table border=\"1\" class=\"dataframe\">\n",
       "  <thead>\n",
       "    <tr style=\"text-align: right;\">\n",
       "      <th></th>\n",
       "      <th>Date</th>\n",
       "      <th>RO-1_Feed_pH</th>\n",
       "      <th>RO-1_Feed__EC_(µs/cms)</th>\n",
       "      <th>RO-1_Feed__TDS_(mg/l)</th>\n",
       "      <th>RO-1_Feed__TSS_(mg/l)</th>\n",
       "      <th>RO-1_Feed_Turbidity_NTU</th>\n",
       "      <th>RO-1_Feed__COD_(mg/l)</th>\n",
       "      <th>RO-1_Feed__BOD_(mg/l)</th>\n",
       "      <th>RO-1_Feed_BOD:_COD_Ratio</th>\n",
       "      <th>RO-1_Feed_NH3N_(mg/l)</th>\n",
       "      <th>...</th>\n",
       "      <th>RO-1_R_TDS_(mg/l)</th>\n",
       "      <th>RO-1_R_Total_Hardnes</th>\n",
       "      <th>RO-1_R_Ca_Hardness</th>\n",
       "      <th>RO-1_R_Total_Alkalinity</th>\n",
       "      <th>RO-1_R_COD_(mg/l)</th>\n",
       "      <th>RO_1_FEED_PRESSURE</th>\n",
       "      <th>RO_1_Rej_PRESSURE</th>\n",
       "      <th>RO-1_Feed_FLOW_(m3/hr)</th>\n",
       "      <th>RO-1_Permeate_FLOW_(KL)</th>\n",
       "      <th>RO-1_REJECT_FLOW_(KL)</th>\n",
       "    </tr>\n",
       "  </thead>\n",
       "  <tbody>\n",
       "    <tr>\n",
       "      <th>0</th>\n",
       "      <td>2023-12-15</td>\n",
       "      <td>7.90</td>\n",
       "      <td>NaN</td>\n",
       "      <td>NaN</td>\n",
       "      <td>NaN</td>\n",
       "      <td>0.3</td>\n",
       "      <td>NaN</td>\n",
       "      <td>NaN</td>\n",
       "      <td>NaN</td>\n",
       "      <td>NaN</td>\n",
       "      <td>...</td>\n",
       "      <td>6290.000000</td>\n",
       "      <td>NaN</td>\n",
       "      <td>NaN</td>\n",
       "      <td>NaN</td>\n",
       "      <td>760.000000</td>\n",
       "      <td>NaN</td>\n",
       "      <td>NaN</td>\n",
       "      <td>NaN</td>\n",
       "      <td>NaN</td>\n",
       "      <td>NaN</td>\n",
       "    </tr>\n",
       "    <tr>\n",
       "      <th>1</th>\n",
       "      <td>2023-12-16</td>\n",
       "      <td>7.80</td>\n",
       "      <td>NaN</td>\n",
       "      <td>NaN</td>\n",
       "      <td>NaN</td>\n",
       "      <td>0.5</td>\n",
       "      <td>NaN</td>\n",
       "      <td>NaN</td>\n",
       "      <td>NaN</td>\n",
       "      <td>NaN</td>\n",
       "      <td>...</td>\n",
       "      <td>6434.285714</td>\n",
       "      <td>NaN</td>\n",
       "      <td>NaN</td>\n",
       "      <td>NaN</td>\n",
       "      <td>805.714286</td>\n",
       "      <td>NaN</td>\n",
       "      <td>NaN</td>\n",
       "      <td>NaN</td>\n",
       "      <td>NaN</td>\n",
       "      <td>NaN</td>\n",
       "    </tr>\n",
       "    <tr>\n",
       "      <th>2</th>\n",
       "      <td>2023-12-17</td>\n",
       "      <td>7.70</td>\n",
       "      <td>NaN</td>\n",
       "      <td>NaN</td>\n",
       "      <td>NaN</td>\n",
       "      <td>0.7</td>\n",
       "      <td>NaN</td>\n",
       "      <td>NaN</td>\n",
       "      <td>NaN</td>\n",
       "      <td>NaN</td>\n",
       "      <td>...</td>\n",
       "      <td>6578.571429</td>\n",
       "      <td>NaN</td>\n",
       "      <td>NaN</td>\n",
       "      <td>NaN</td>\n",
       "      <td>851.428571</td>\n",
       "      <td>NaN</td>\n",
       "      <td>NaN</td>\n",
       "      <td>NaN</td>\n",
       "      <td>NaN</td>\n",
       "      <td>NaN</td>\n",
       "    </tr>\n",
       "    <tr>\n",
       "      <th>3</th>\n",
       "      <td>2023-12-18</td>\n",
       "      <td>7.65</td>\n",
       "      <td>NaN</td>\n",
       "      <td>NaN</td>\n",
       "      <td>NaN</td>\n",
       "      <td>0.5</td>\n",
       "      <td>450.0</td>\n",
       "      <td>NaN</td>\n",
       "      <td>NaN</td>\n",
       "      <td>NaN</td>\n",
       "      <td>...</td>\n",
       "      <td>6722.857143</td>\n",
       "      <td>NaN</td>\n",
       "      <td>NaN</td>\n",
       "      <td>NaN</td>\n",
       "      <td>897.142857</td>\n",
       "      <td>NaN</td>\n",
       "      <td>NaN</td>\n",
       "      <td>NaN</td>\n",
       "      <td>NaN</td>\n",
       "      <td>NaN</td>\n",
       "    </tr>\n",
       "    <tr>\n",
       "      <th>4</th>\n",
       "      <td>2023-12-19</td>\n",
       "      <td>7.80</td>\n",
       "      <td>NaN</td>\n",
       "      <td>NaN</td>\n",
       "      <td>NaN</td>\n",
       "      <td>0.8</td>\n",
       "      <td>553.0</td>\n",
       "      <td>NaN</td>\n",
       "      <td>NaN</td>\n",
       "      <td>NaN</td>\n",
       "      <td>...</td>\n",
       "      <td>6867.142857</td>\n",
       "      <td>NaN</td>\n",
       "      <td>NaN</td>\n",
       "      <td>NaN</td>\n",
       "      <td>942.857143</td>\n",
       "      <td>NaN</td>\n",
       "      <td>NaN</td>\n",
       "      <td>NaN</td>\n",
       "      <td>NaN</td>\n",
       "      <td>NaN</td>\n",
       "    </tr>\n",
       "  </tbody>\n",
       "</table>\n",
       "<p>5 rows × 38 columns</p>\n",
       "</div>"
      ],
      "text/plain": [
       "        Date  RO-1_Feed_pH  RO-1_Feed__EC_(µs/cms)  RO-1_Feed__TDS_(mg/l)  \\\n",
       "0 2023-12-15          7.90                     NaN                    NaN   \n",
       "1 2023-12-16          7.80                     NaN                    NaN   \n",
       "2 2023-12-17          7.70                     NaN                    NaN   \n",
       "3 2023-12-18          7.65                     NaN                    NaN   \n",
       "4 2023-12-19          7.80                     NaN                    NaN   \n",
       "\n",
       "   RO-1_Feed__TSS_(mg/l)  RO-1_Feed_Turbidity_NTU  RO-1_Feed__COD_(mg/l)  \\\n",
       "0                    NaN                      0.3                    NaN   \n",
       "1                    NaN                      0.5                    NaN   \n",
       "2                    NaN                      0.7                    NaN   \n",
       "3                    NaN                      0.5                  450.0   \n",
       "4                    NaN                      0.8                  553.0   \n",
       "\n",
       "  RO-1_Feed__BOD_(mg/l)  RO-1_Feed_BOD:_COD_Ratio  RO-1_Feed_NH3N_(mg/l)  ...  \\\n",
       "0                   NaN                       NaN                    NaN  ...   \n",
       "1                   NaN                       NaN                    NaN  ...   \n",
       "2                   NaN                       NaN                    NaN  ...   \n",
       "3                   NaN                       NaN                    NaN  ...   \n",
       "4                   NaN                       NaN                    NaN  ...   \n",
       "\n",
       "   RO-1_R_TDS_(mg/l)  RO-1_R_Total_Hardnes  RO-1_R_Ca_Hardness  \\\n",
       "0        6290.000000                   NaN                 NaN   \n",
       "1        6434.285714                   NaN                 NaN   \n",
       "2        6578.571429                   NaN                 NaN   \n",
       "3        6722.857143                   NaN                 NaN   \n",
       "4        6867.142857                   NaN                 NaN   \n",
       "\n",
       "   RO-1_R_Total_Alkalinity RO-1_R_COD_(mg/l)  RO_1_FEED_PRESSURE  \\\n",
       "0                      NaN        760.000000                 NaN   \n",
       "1                      NaN        805.714286                 NaN   \n",
       "2                      NaN        851.428571                 NaN   \n",
       "3                      NaN        897.142857                 NaN   \n",
       "4                      NaN        942.857143                 NaN   \n",
       "\n",
       "   RO_1_Rej_PRESSURE  RO-1_Feed_FLOW_(m3/hr)  RO-1_Permeate_FLOW_(KL)  \\\n",
       "0                NaN                     NaN                      NaN   \n",
       "1                NaN                     NaN                      NaN   \n",
       "2                NaN                     NaN                      NaN   \n",
       "3                NaN                     NaN                      NaN   \n",
       "4                NaN                     NaN                      NaN   \n",
       "\n",
       "   RO-1_REJECT_FLOW_(KL)  \n",
       "0                    NaN  \n",
       "1                    NaN  \n",
       "2                    NaN  \n",
       "3                    NaN  \n",
       "4                    NaN  \n",
       "\n",
       "[5 rows x 38 columns]"
      ]
     },
     "execution_count": 71,
     "metadata": {},
     "output_type": "execute_result"
    }
   ],
   "source": [
    "import pandas as pd\n",
    "import numpy as np\n",
    "import re\n",
    "\n",
    "# path to your cleaned file (or to the raw file and set header accordingly)\n",
    "file_path = r\"C:/Users/9272.IONEXCH/Project/RO Dignostics/RO-1_cleaned_final.xlsx\"\n",
    "\n",
    "# if you haven't cleaned yet, use header=0 or header=1 accordingly:\n",
    "df_kpi = pd.read_excel(file_path, sheet_name=\"Sheet1\", header=0)\n",
    "print(\"rows,cols:\", df.shape)\n",
    "print(df.columns.tolist())\n",
    "df.head()"
   ]
  },
  {
   "cell_type": "markdown",
   "id": "a05479f8-d2f7-4a58-b04b-1f4b074677d9",
   "metadata": {},
   "source": [
    "643 rows\n",
    "\n",
    "✅ 38 columns\n",
    "\n",
    "✅ Key KPIs inputs present:\n",
    "\n",
    "Feed TDS → RO-1_Feed__TDS_(mg/l)\n",
    "\n",
    "Permeate TDS → RO-1_P_TDS_(mg/l)\n",
    "\n",
    "Feed Pressure → RO_1_FEED_PRESSURE\n",
    "\n",
    "Reject Pressure → RO_1_Rej_PRESSURE\n",
    "\n",
    "Feed Flow → RO-1_Feed_FLOW_(m3/hr)\n",
    "\n",
    "Permeate Flow → RO-1_Permeate_FLOW_(KL)\n",
    "\n",
    "Reject Flow → RO-1_REJECT_FLOW_(KL)\n",
    "\n",
    "Some columns still have missing values (especially flow & pressure early on), but since we’ve already interpolated, this looks usable."
   ]
  },
  {
   "cell_type": "markdown",
   "id": "f0bea5ec-3430-46af-b480-43872e29de5e",
   "metadata": {},
   "source": [
    "Step 1 Compute RO KPIs"
   ]
  },
  {
   "cell_type": "code",
   "execution_count": 72,
   "id": "a5815956-ee03-4dda-bf04-74bafbd08a4a",
   "metadata": {},
   "outputs": [],
   "source": [
    "import numpy as np\n",
    "\n",
    "# Ensure Date is index\n",
    "df = df.set_index(\"Date\").sort_index()\n",
    "\n",
    "# 1. Recovery %\n",
    "df[\"Recovery_%\"] = (df[\"RO-1_Permeate_FLOW_(KL)\"] / df[\"RO-1_Feed_FLOW_(m3/hr)\"]) * 100\n",
    "\n",
    "# 2. Salt Passage % and Salt Rejection %\n",
    "df[\"Salt_Passage_%\"] = (df[\"RO-1_P_TDS_(mg/l)\"] / df[\"RO-1_Feed__TDS_(mg/l)\"]) * 100\n",
    "df[\"Salt_Rejection_%\"] = 100 - df[\"Salt_Passage_%\"]\n",
    "\n",
    "# 3. Delta P (Pressure Drop)\n",
    "df[\"DeltaP_bar\"] = df[\"RO_1_FEED_PRESSURE\"] - df[\"RO_1_Rej_PRESSURE\"]\n",
    "\n",
    "# 4. Temperature Correction Factor (if you have temperature column, else use 1)\n",
    "B = 0.021   # correction factor\n",
    "Tref = 25   # reference temp\n",
    "if \"Temperature\" in df.columns:\n",
    "    df[\"TCF\"] = np.exp(B * (df[\"Temperature\"] - Tref))\n",
    "else:\n",
    "    df[\"TCF\"] = 1\n",
    "\n",
    "# 5. Normalized Permeate Flow\n",
    "df[\"Norm_Permeate_Flow\"] = df[\"RO-1_Permeate_FLOW_(KL)\"] / df[\"TCF\"]\n",
    "\n",
    "# 6. Normalized Salt Passage (NSP %)\n",
    "df[\"NSP_%\"] = df[\"Salt_Passage_%\"] / df[\"TCF\"]\n",
    "\n",
    "\n"
   ]
  },
  {
   "cell_type": "markdown",
   "id": "d75ebfe4-e0f9-4659-8bf4-38fc3b585187",
   "metadata": {},
   "source": [
    "# ---- Rule-based Diagnosis ----"
   ]
  },
  {
   "cell_type": "code",
   "execution_count": 73,
   "id": "9a23a808-4496-4c6d-97f0-44eb6adec482",
   "metadata": {},
   "outputs": [],
   "source": [
    "# ---- Rule-based Diagnosis ----\n",
    "def diagnose(row):\n",
    "    issues = []\n",
    "    if pd.notna(row.get(\"Salt_Rejection_%\")) and row[\"Salt_Rejection_%\"] < 95:\n",
    "        issues.append(\"Membrane Damage or Scaling\")\n",
    "    if pd.notna(row.get(\"Recovery_%\")) and row[\"Recovery_%\"] > 75:\n",
    "        issues.append(\"Risk of Scaling\")\n",
    "    if pd.notna(row.get(\"DeltaP_bar\")) and row[\"DeltaP_bar\"] > 2:\n",
    "        issues.append(\"Fouling / Clogging\")\n",
    "    if pd.notna(row.get(\"Norm_Permeate_Flow\")) and row[\"Norm_Permeate_Flow\"] < 0.8 * df[\"Norm_Permeate_Flow\"].median():\n",
    "        issues.append(\"Flow Decline - Fouling/Compaction\")\n",
    "    return \"; \".join(issues) if issues else \"Normal\"\n",
    "\n",
    "df[\"Diagnosis\"] = df.apply(diagnose, axis=1)"
   ]
  },
  {
   "cell_type": "code",
   "execution_count": 74,
   "id": "3c77fa01-a196-4fa1-a606-ec8daaaa5099",
   "metadata": {},
   "outputs": [
    {
     "name": "stdout",
     "output_type": "stream",
     "text": [
      "✅ Cleaned file saved at: C:/Users/9272.IONEXCH/Project/RO Dignostics/RO-1_KPI_results.xlsx\n"
     ]
    }
   ],
   "source": [
    "# Save cleaned dataframe to Excel\n",
    "output_path = \"C:/Users/9272.IONEXCH/Project/RO Dignostics/RO-1_KPI_results.xlsx\"\n",
    "df.to_excel(output_path, index=False)\n",
    "\n",
    "print(f\"✅ Cleaned file saved at: {output_path}\")\n"
   ]
  },
  {
   "cell_type": "markdown",
   "id": "0b241f84-183b-46c4-a25f-cb65b3fb72de",
   "metadata": {},
   "source": [
    "Step 2: Diagnosis Rules (Rule-Based)"
   ]
  },
  {
   "cell_type": "code",
   "execution_count": 75,
   "id": "35bad85b-6aca-4c5d-beb0-3b95ef53a595",
   "metadata": {},
   "outputs": [
    {
     "data": {
      "image/png": "[encoded data removed]",
      "text/plain": [
       "<Figure size 1200x600 with 1 Axes>"
      ]
     },
     "metadata": {},
     "output_type": "display_data"
    }
   ],
   "source": [
    "import matplotlib.pyplot as plt\n",
    "\n",
    "plt.figure(figsize=(12,6))\n",
    "plt.plot(df.index, df[\"Recovery_%\"], label=\"Recovery %\")\n",
    "plt.plot(df.index, df[\"Salt_Rejection_%\"], label=\"Salt Rejection %\")\n",
    "plt.plot(df.index, df[\"DeltaP_bar\"], label=\"Delta P (bar)\")\n",
    "plt.legend()\n",
    "plt.title(\"RO Performance KPIs\")\n",
    "plt.xlabel(\"Date\")\n",
    "plt.ylabel(\"Value\")\n",
    "plt.grid(True)\n",
    "plt.show()"
   ]
  },
  {
   "cell_type": "markdown",
   "id": "26c23e9a-b82a-4f08-b8ac-b4dd2ad741bc",
   "metadata": {},
   "source": [
    "Load KPI results"
   ]
  },
  {
   "cell_type": "code",
   "execution_count": 78,
   "id": "05319526-daff-47a7-82f2-08755582785a",
   "metadata": {},
   "outputs": [],
   "source": [
    "import pandas as pd\n",
    "\n",
    "file_path = \"C:/Users/9272.IONEXCH/Project/RO Dignostics/RO-1_KPI_results.xlsx\"\n",
    "df = pd.read_excel(file_path)"
   ]
  },
  {
   "cell_type": "markdown",
   "id": "3b582a9b-e295-481d-9211-6f7ad4ad3d19",
   "metadata": {},
   "source": [
    "Clean KPIs for Modeling"
   ]
  },
  {
   "cell_type": "code",
   "execution_count": 80,
   "id": "3a3ba198-ddc1-47ca-aa31-03c0986b1c82",
   "metadata": {},
   "outputs": [
    {
     "name": "stdout",
     "output_type": "stream",
     "text": [
      "Remaining rows: 561\n",
      "Any NaN left? -> False\n",
      "Any Inf left? -> False\n"
     ]
    }
   ],
   "source": [
    "import numpy as np\n",
    "\n",
    "features = [\"Recovery_%\", \"Salt_Rejection_%\", \"DeltaP_bar\", \"Norm_Permeate_Flow\"]\n",
    "\n",
    "# 1. Replace inf/-inf with NaN\n",
    "df[features] = df[features].replace([np.inf, -np.inf], np.nan)\n",
    "\n",
    "# 2. Drop rows with NaN in ANY of the features\n",
    "X = df[features].dropna()\n",
    "\n",
    "# 3. Clip absurd values (safety net)\n",
    "X = X.clip(lower=-1e6, upper=1e6)\n",
    "\n",
    "print(\"Remaining rows:\", len(X))\n",
    "print(\"Any NaN left? ->\", X.isna().any().any())\n",
    "print(\"Any Inf left? ->\", np.isinf(X).any().any())"
   ]
  },
  {
   "cell_type": "code",
   "execution_count": null,
   "id": "607240a2-f69d-4048-af06-cf11454fb787",
   "metadata": {},
   "outputs": [],
   "source": [
    "scale and run isolation forest"
   ]
  },
  {
   "cell_type": "code",
   "execution_count": 81,
   "id": "ec7ea5ea-d0ab-435d-bf80-fbe97dfb1cfc",
   "metadata": {},
   "outputs": [
    {
     "name": "stdout",
     "output_type": "stream",
     "text": [
      "Anomaly counts:\n",
      " Anomaly\n",
      " 1.0    533\n",
      "-1.0     28\n",
      "Name: count, dtype: int64\n"
     ]
    }
   ],
   "source": [
    "from sklearn.preprocessing import RobustScaler\n",
    "from sklearn.ensemble import IsolationForest\n",
    "\n",
    "scaler = RobustScaler()\n",
    "X_scaled = scaler.fit_transform(X)\n",
    "\n",
    "iso = IsolationForest(contamination=0.05, random_state=42)\n",
    "df.loc[X.index, \"Anomaly\"] = iso.fit_predict(X_scaled)\n",
    "df.loc[X.index, \"Anomaly_Score\"] = iso.decision_function(X_scaled)\n",
    "\n",
    "print(\"Anomaly counts:\\n\", df[\"Anomaly\"].value_counts())"
   ]
  },
  {
   "cell_type": "markdown",
   "id": "f0d7f379-4874-4b50-bedb-bdfa8471deee",
   "metadata": {},
   "source": [
    "Results show:\n",
    "\n",
    "533 rows normal (Anomaly = 1)\n",
    "\n",
    "28 rows anomalous (Anomaly = -1)\n",
    "\n",
    "That’s exactly in line with the contamination level (5%)."
   ]
  },
  {
   "cell_type": "markdown",
   "id": "3f51df56-d646-4451-999b-104349d64f72",
   "metadata": {},
   "source": [
    "Performance Forecasting\n",
    "\n",
    "showing Digital Twin – Efficiency Forecasting.\n",
    "\n",
    "What we want to do\n",
    "\n",
    "Build a regression model that can predict a key KPI (e.g., Permeate Flow or Salt Rejection) from process conditions (feed TDS, feed pressure, reject pressure, etc.).\n",
    "This demonstrates forecasting capability: “Given today’s feedwater quality, what will my permeate flow look like?”"
   ]
  },
  {
   "cell_type": "markdown",
   "id": "55558553-cc6b-40ca-8ac2-15a956a6db0c",
   "metadata": {},
   "source": [
    "Forecasting Permeate Flow"
   ]
  },
  {
   "cell_type": "code",
   "execution_count": 84,
   "id": "7ffc251e-d3d1-43ba-bc87-4196b8c1d7ef",
   "metadata": {},
   "outputs": [
    {
     "name": "stdout",
     "output_type": "stream",
     "text": [
      "Permeate Flow Forecast\n",
      "R²: 0.0\n",
      "MAE: 0.03501169590643672\n"
     ]
    },
    {
     "data": {
      "image/png": "[encoded data removed]",
      "text/plain": [
       "<Figure size 1200x500 with 1 Axes>"
      ]
     },
     "metadata": {},
     "output_type": "display_data"
    }
   ],
   "source": [
    "from sklearn.model_selection import train_test_split\n",
    "from sklearn.ensemble import RandomForestRegressor\n",
    "from sklearn.metrics import r2_score, mean_absolute_error\n",
    "import matplotlib.pyplot as plt\n",
    "\n",
    "# ---------- Permeate Flow Forecast ----------\n",
    "target_flow = \"RO-1_Permeate_FLOW_(KL)\"\n",
    "features = [\"RO-1_Feed__TDS_(mg/l)\", \"RO_1_FEED_PRESSURE\", \"RO_1_Rej_PRESSURE\"]\n",
    "\n",
    "data_flow = df[features + [target_flow]].dropna()\n",
    "Xf, yf = data_flow[features], data_flow[target_flow]\n",
    "\n",
    "Xf_train, Xf_test, yf_train, yf_test = train_test_split(Xf, yf, test_size=0.2, shuffle=False)\n",
    "\n",
    "model_flow = RandomForestRegressor(n_estimators=100, random_state=42)\n",
    "model_flow.fit(Xf_train, yf_train)\n",
    "yf_pred = model_flow.predict(Xf_test)\n",
    "\n",
    "print(\"Permeate Flow Forecast\")\n",
    "print(\"R²:\", r2_score(yf_test, yf_pred))\n",
    "print(\"MAE:\", mean_absolute_error(yf_test, yf_pred))\n",
    "\n",
    "# Save predictions\n",
    "df.loc[Xf_test.index, \"Predicted_Permeate_Flow\"] = yf_pred\n",
    "\n",
    "# Plot\n",
    "plt.figure(figsize=(12,5))\n",
    "plt.plot(yf_test.index, yf_test, label=\"Actual Flow\", color=\"blue\")\n",
    "plt.plot(yf_test.index, yf_pred, label=\"Predicted Flow\", color=\"orange\")\n",
    "plt.legend(); plt.title(\"Permeate Flow: Actual vs Predicted\"); plt.show()\n"
   ]
  },
  {
   "cell_type": "markdown",
   "id": "a9a67b06-94d3-4df3-802e-4488698ae781",
   "metadata": {},
   "source": [
    "Forecast Salt Rejection % (Quality)"
   ]
  },
  {
   "cell_type": "code",
   "execution_count": 85,
   "id": "09d51271-e664-4b38-9b7d-9b8f317dea2a",
   "metadata": {},
   "outputs": [
    {
     "name": "stdout",
     "output_type": "stream",
     "text": [
      "\n",
      "Salt Rejection Forecast\n",
      "R²: 0.5937915382794646\n",
      "MAE: 0.08687713861558184\n"
     ]
    },
    {
     "data": {
      "image/png": "[encoded data removed]",
      "text/plain": [
       "<Figure size 1200x500 with 1 Axes>"
      ]
     },
     "metadata": {},
     "output_type": "display_data"
    }
   ],
   "source": [
    "# ---------- Salt Rejection Forecast ----------\n",
    "target_rej = \"Salt_Rejection_%\"\n",
    "features_rej = [\"RO-1_Feed__TDS_(mg/l)\", \"RO-1_P_TDS_(mg/l)\", \"RO_1_FEED_PRESSURE\", \"RO_1_Rej_PRESSURE\"]\n",
    "\n",
    "data_rej = df[features_rej + [target_rej]].dropna()\n",
    "Xr, yr = data_rej[features_rej], data_rej[target_rej]\n",
    "\n",
    "Xr_train, Xr_test, yr_train, yr_test = train_test_split(Xr, yr, test_size=0.2, shuffle=False)\n",
    "\n",
    "model_rej = RandomForestRegressor(n_estimators=100, random_state=42)\n",
    "model_rej.fit(Xr_train, yr_train)\n",
    "yr_pred = model_rej.predict(Xr_test)\n",
    "\n",
    "print(\"\\nSalt Rejection Forecast\")\n",
    "print(\"R²:\", r2_score(yr_test, yr_pred))\n",
    "print(\"MAE:\", mean_absolute_error(yr_test, yr_pred))\n",
    "\n",
    "# Save predictions\n",
    "df.loc[Xr_test.index, \"Predicted_Salt_Rejection_%\"] = yr_pred\n",
    "\n",
    "# Plot\n",
    "plt.figure(figsize=(12,5))\n",
    "plt.plot(yr_test.index, yr_test, label=\"Actual Rejection %\", color=\"green\")\n",
    "plt.plot(yr_test.index, yr_pred, label=\"Predicted Rejection %\", color=\"red\")\n",
    "plt.legend(); plt.title(\"Salt Rejection: Actual vs Predicted\"); plt.show()\n"
   ]
  },
  {
   "cell_type": "markdown",
   "id": "d40604d7-e50a-468a-ad88-2f3d6653b752",
   "metadata": {},
   "source": [
    "Save final Results"
   ]
  },
  {
   "cell_type": "code",
   "execution_count": 86,
   "id": "3afeb2c8-09df-4674-aea7-7b363eef752f",
   "metadata": {},
   "outputs": [
    {
     "name": "stdout",
     "output_type": "stream",
     "text": [
      "✅ Forecasting results saved: C:/Users/9272.IONEXCH/Project/RO Dignostics/RO-1_DigitalTwin_Forecasting.xlsx\n"
     ]
    }
   ],
   "source": [
    "output_path = \"C:/Users/9272.IONEXCH/Project/RO Dignostics/RO-1_DigitalTwin_Forecasting.xlsx\"\n",
    "df.to_excel(output_path, index=False)\n",
    "print(f\"✅ Forecasting results saved: {output_path}\")"
   ]
  },
  {
   "cell_type": "markdown",
   "id": "a8d6c9a1-b386-437b-9779-4c6d2a02265c",
   "metadata": {},
   "source": [
    "Permeate Flow Forecast\n",
    "\n",
    "R² = 0.0 → model is not explaining variance at all (predictions are basically flat/mean).\n",
    "\n",
    "MAE ≈ 0.035 KL → error is numerically small, but that’s only because our permeate flow values are low-range numbers (looks like 2–3 KL/hr/day range).\n",
    "\n",
    "Why is R² so poor?\n",
    "\n",
    "Likely our permeate flow hardly varies across dataset (maybe always ~2.7–3.0).\n",
    "\n",
    "If target variable doesn’t change much, RandomForest cannot “learn a relationship” → flat predictions → R² = 0.\n",
    "\n",
    "Also, only 3 input features were used (TDS, feed pressure, reject pressure). Flow is often influenced by temperature, membrane fouling condition, SDI, hours of operation etc., which we didn’t include."
   ]
  },
  {
   "cell_type": "markdown",
   "id": "c6902c45-142a-4191-9822-014c4d12cb02",
   "metadata": {},
   "source": [
    "2. Salt Rejection Forecast\n",
    "\n",
    "R² ≈ 0.59 → moderate fit (captures ~60% variance).\n",
    "\n",
    "MAE ≈ 0.087% → error is very small, since rejection % is ~97–99%.\n",
    "\n",
    "So model is reasonably predicting rejection quality.\n",
    "\n",
    "This is good — rejection seems more responsive to feed TDS and operating conditions."
   ]
  },
  {
   "cell_type": "code",
   "execution_count": null,
   "id": "9633ac17-91bd-4926-8bfa-3ebec937ef29",
   "metadata": {},
   "outputs": [],
   "source": [
    "Key Takeaway:\n",
    "\n",
    "“Our initial model predicts Salt Rejection reasonably well (R² ~0.6).\n",
    "\n",
    "Permeate Flow is almost flat in dataset, so the model cannot explain variance — we may need to add more influencing features (e.g., Temperature, SDI, operating hours, normalized flow) to make it predictive.”\n",
    "\n",
    "This shows you understand both data limitations and next steps."
   ]
  },
  {
   "cell_type": "code",
   "execution_count": 87,
   "id": "c4de844c-394e-4410-b0f9-24a6d63d67b2",
   "metadata": {},
   "outputs": [
    {
     "name": "stdout",
     "output_type": "stream",
     "text": [
      "Improved Permeate Flow Forecast\n",
      "R²: 0.0\n",
      "MAE: 5.773159728050814e-15\n"
     ]
    },
    {
     "data": {
      "image/png": "[encoded data removed]",
      "text/plain": [
       "<Figure size 1200x500 with 1 Axes>"
      ]
     },
     "metadata": {},
     "output_type": "display_data"
    }
   ],
   "source": [
    "from sklearn.model_selection import train_test_split\n",
    "from sklearn.ensemble import RandomForestRegressor\n",
    "from sklearn.metrics import r2_score, mean_absolute_error\n",
    "import matplotlib.pyplot as plt\n",
    "\n",
    "# ---------- Improved Permeate Flow Forecast ----------\n",
    "target_flow = \"RO-1_Permeate_FLOW_(KL)\"\n",
    "\n",
    "# Extended features\n",
    "features_ext = [\n",
    "    \"RO-1_Feed__TDS_(mg/l)\",\n",
    "    \"RO_1_FEED_PRESSURE\",\n",
    "    \"RO_1_Rej_PRESSURE\",\n",
    "    \"Recovery_%\",\n",
    "    \"NSP_%\",\n",
    "    \"Norm_Permeate_Flow\",\n",
    "    \"TCF\"  # only if available in df\n",
    "]\n",
    "\n",
    "# Keep only features that exist in df\n",
    "features_ext = [f for f in features_ext if f in df.columns]\n",
    "\n",
    "data_flow_ext = df[features_ext + [target_flow]].dropna()\n",
    "Xf, yf = data_flow_ext[features_ext], data_flow_ext[target_flow]\n",
    "\n",
    "# Train/test split\n",
    "Xf_train, Xf_test, yf_train, yf_test = train_test_split(Xf, yf, test_size=0.2, shuffle=False)\n",
    "\n",
    "# Model\n",
    "model_flow_ext = RandomForestRegressor(n_estimators=200, random_state=42)\n",
    "model_flow_ext.fit(Xf_train, yf_train)\n",
    "\n",
    "# Predictions\n",
    "yf_pred_ext = model_flow_ext.predict(Xf_test)\n",
    "\n",
    "# Metrics\n",
    "print(\"Improved Permeate Flow Forecast\")\n",
    "print(\"R²:\", r2_score(yf_test, yf_pred_ext))\n",
    "print(\"MAE:\", mean_absolute_error(yf_test, yf_pred_ext))\n",
    "\n",
    "# Save predictions\n",
    "df.loc[Xf_test.index, \"Predicted_Permeate_Flow_Ext\"] = yf_pred_ext\n",
    "\n",
    "# Plot\n",
    "plt.figure(figsize=(12,5))\n",
    "plt.plot(yf_test.index, yf_test, label=\"Actual Flow\", color=\"blue\")\n",
    "plt.plot(yf_test.index, yf_pred_ext, label=\"Predicted Flow (Extended Features)\", color=\"orange\")\n",
    "plt.legend(); plt.title(\"Permeate Flow Forecast: Actual vs Predicted (Extended Features)\"); plt.show()\n"
   ]
  },
  {
   "cell_type": "markdown",
   "id": "3c1e86cb-d53a-4ed0-8511-92a937735aed",
   "metadata": {},
   "source": [
    "Results We Got\n",
    "\n",
    "R² = 0.0 → model explains zero variance.\n",
    "\n",
    "MAE ≈ 5.77e-15 → essentially zero error (numerical noise).\n",
    "\n",
    "\n",
    "Flat Target Variable\n",
    "\n",
    "Our Permeate Flow is basically constant in the dataset (same or nearly same values across rows).\n",
    "\n",
    "When the target doesn’t change, the model can’t learn any pattern.\n",
    "\n",
    "RandomForest just predicts the same constant → R² = 0 (since variance explained = 0).\n",
    "\n",
    "Why MAE is ~0\n",
    "\n",
    "Because the model’s constant prediction matches the actual constant values.\n",
    "\n",
    "Example: if actual flow is always ~2.7 KL, then predicting 2.7 every time → perfect match, but R² still = 0 because there is no variance to explain.\n",
    "\n",
    "Conclusion\n",
    "\n",
    "Our plant flow is operated in a very stable range (good operationally!).- May be wrong the data itself as its not the sensor data.\n",
    "\n",
    "But it makes forecasting meaningless → the model can’t “predict changes” if there are no changes in historical data.\n",
    "\n",
    "“We built forecasting models for both quantity (Permeate Flow) and quality (Salt Rejection).\n",
    "\n",
    "Salt Rejection forecasting works with R² ≈ 0.6, showing sensitivity to feed TDS and pressure.\n",
    "\n",
    "Permeate Flow forecasting failed (R² = 0) because the dataset shows almost no variability in permeate flow — the plant is operated stably.\n",
    "\n",
    "To make flow forecasting meaningful, we need datasets with events (membrane fouling, CIP cleaning, flux decline, recovery changes, etc.).”\n",
    "\n"
   ]
  },
  {
   "cell_type": "markdown",
   "id": "dd454689-9231-4b07-aafd-7f4725b916ff",
   "metadata": {},
   "source": [
    "uday testing"
   ]
  }
 ],
 "metadata": {
  "kernelspec": {
   "display_name": "Python 3 (ipykernel)",
   "language": "python",
   "name": "python3"
  },
  "language_info": {
   "codemirror_mode": {
    "name": "ipython",
    "version": 3
   },
   "file_extension": ".py",
   "mimetype": "text/x-python",
   "name": "python",
   "nbconvert_exporter": "python",
   "pygments_lexer": "ipython3",
   "version": "3.11.7"
  }
 },
 "nbformat": 4,
 "nbformat_minor": 5
}
